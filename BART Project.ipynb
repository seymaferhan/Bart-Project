{
 "cells": [
  {
   "cell_type": "markdown",
   "id": "ca692699",
   "metadata": {},
   "source": [
    "## BART Project - 2016 ve 2017 Verileri"
   ]
  },
  {
   "cell_type": "markdown",
   "id": "14c103f2",
   "metadata": {},
   "source": [
    "Bart istasyonu, San Francisco Körfez Bölgesi'ndeki hızlı tren sisteminin adıdır. Tam adı \"Bay Area Rapid Transit\" (BART) olup, \n",
    "diğer ülkelerdeki metro veya banliyö sistemlerinden biri değil, tamamen Amerika'nın San Francisco Körfez Bölgesi'ne has bir ulaşım altyapısıdır.\n",
    "\n",
    "Başlıca özellikleri şunlardır:\n",
    "* 1972 yılında hizmete açılmıştır ve bölgeye yayılan 50 istasyondan oluşur.\n",
    "* Yaklaşık 179 kilometrelik bir ağa sahiptir ve günde ortalama 432.000 yolcu taşır.\n",
    "* Elektrikli trenleri kullanır ve çok yüksek frekanslı seferler gerçekleştirir.\n",
    "* Bölgedeki metropol merkezleri arasında hızlı ve konforlu bir ulaşım sağlar.\n",
    "* Hem yeraltı istasyonları hem de yüzey istasyonları bulunur.\n",
    "* Çevreci bir ulaşım sistemidir ve trafiği azaltmaya yardımcı olur.\n",
    "Özetle, BART San Francisco Körfez Bölgesi'nin ana toplu taşıma omurgasını oluşturan, yüksek kapasiteli ve hızlı bir banliyö demiryolu sistemidir."
   ]
  },
  {
   "cell_type": "markdown",
   "id": "ff306be7",
   "metadata": {},
   "source": [
    "### Veri Analiziyle ilgili Sorular\n",
    "* En yoğun BART istasyonu hangisidir?\n",
    "* En az popüler BART güzergahı hangisidir?\n",
    "* Bir koltuk bulmak istiyorsanız Berkeley'den sf'ye gitmek için en iyi zaman ne zamandır?\n",
    "* Haftanın hangi günü en yoğun?\n",
    "* Gece geç saatlerde BART'a kaç kişi biniyor?\n",
    "\n",
    "### Veri Bilimi Soruları\n",
    "* Soru A: Her istasyon arasındaki düz çizgi mesafesini hesaplayın\n",
    "* Soru B: Herhangi 2 istasyon arasında Bart ile işe gidip gelen kişi sayısını tahmin edebilen bir model oluşturun:\n",
    "* Buna nasıl yaklaşırdınız?\n",
    "* Hangi ek verilere ihtiyacınız olurdu?\n",
    "* Şehir veya Bart yetkililerinin verilerinizi nasıl kullanmasını istersiniz?"
   ]
  },
  {
   "cell_type": "markdown",
   "id": "ce03eae4",
   "metadata": {},
   "source": [
    "<img src='bart.png' width=750 >"
   ]
  },
  {
   "cell_type": "markdown",
   "id": "83f57b85",
   "metadata": {},
   "source": [
    "## Kütüphanelerimizi yüklüyoruz."
   ]
  },
  {
   "cell_type": "code",
   "execution_count": 1,
   "id": "a3b1b21c",
   "metadata": {},
   "outputs": [],
   "source": [
    "import pandas as pd\n",
    "import numpy as np\n",
    "import matplotlib.pyplot as plt\n",
    "import seaborn as sns\n",
    "import datetime\n",
    "import warnings\n",
    "warnings.filterwarnings('ignore')"
   ]
  },
  {
   "cell_type": "code",
   "execution_count": 2,
   "id": "513a615b",
   "metadata": {},
   "outputs": [],
   "source": [
    "d1=pd.read_csv('date-hour-soo-dest-2016.csv')\n",
    "d2=pd.read_csv('date-hour-soo-dest-2017.csv')\n",
    "#Dosyalarımızı okuyoruz."
   ]
  },
  {
   "cell_type": "code",
   "execution_count": 3,
   "id": "18389382",
   "metadata": {},
   "outputs": [],
   "source": [
    "df=pd.concat([d1,d2])\n",
    "#Dosyalarımızı birleştiriyoruz."
   ]
  },
  {
   "cell_type": "markdown",
   "id": "4cbbf4f2",
   "metadata": {},
   "source": [
    "## EDA - Exploratory Data Analysis - Keşifçi Veri Analizi"
   ]
  },
  {
   "cell_type": "code",
   "execution_count": 4,
   "id": "992e7678",
   "metadata": {},
   "outputs": [
    {
     "data": {
      "text/html": [
       "<div>\n",
       "<style scoped>\n",
       "    .dataframe tbody tr th:only-of-type {\n",
       "        vertical-align: middle;\n",
       "    }\n",
       "\n",
       "    .dataframe tbody tr th {\n",
       "        vertical-align: top;\n",
       "    }\n",
       "\n",
       "    .dataframe thead th {\n",
       "        text-align: right;\n",
       "    }\n",
       "</style>\n",
       "<table border=\"1\" class=\"dataframe\">\n",
       "  <thead>\n",
       "    <tr style=\"text-align: right;\">\n",
       "      <th></th>\n",
       "      <th>Date</th>\n",
       "      <th>Hour</th>\n",
       "      <th>Origin Station</th>\n",
       "      <th>Destination Station</th>\n",
       "      <th>Trip Count</th>\n",
       "    </tr>\n",
       "  </thead>\n",
       "  <tbody>\n",
       "    <tr>\n",
       "      <th>0</th>\n",
       "      <td>2016-01-01</td>\n",
       "      <td>0</td>\n",
       "      <td>12TH</td>\n",
       "      <td>12TH</td>\n",
       "      <td>1</td>\n",
       "    </tr>\n",
       "    <tr>\n",
       "      <th>1</th>\n",
       "      <td>2016-01-01</td>\n",
       "      <td>0</td>\n",
       "      <td>12TH</td>\n",
       "      <td>16TH</td>\n",
       "      <td>1</td>\n",
       "    </tr>\n",
       "    <tr>\n",
       "      <th>2</th>\n",
       "      <td>2016-01-01</td>\n",
       "      <td>0</td>\n",
       "      <td>12TH</td>\n",
       "      <td>24TH</td>\n",
       "      <td>4</td>\n",
       "    </tr>\n",
       "    <tr>\n",
       "      <th>3</th>\n",
       "      <td>2016-01-01</td>\n",
       "      <td>0</td>\n",
       "      <td>12TH</td>\n",
       "      <td>ASHB</td>\n",
       "      <td>4</td>\n",
       "    </tr>\n",
       "    <tr>\n",
       "      <th>4</th>\n",
       "      <td>2016-01-01</td>\n",
       "      <td>0</td>\n",
       "      <td>12TH</td>\n",
       "      <td>BALB</td>\n",
       "      <td>2</td>\n",
       "    </tr>\n",
       "  </tbody>\n",
       "</table>\n",
       "</div>"
      ],
      "text/plain": [
       "         Date  Hour Origin Station Destination Station  Trip Count\n",
       "0  2016-01-01     0           12TH                12TH           1\n",
       "1  2016-01-01     0           12TH                16TH           1\n",
       "2  2016-01-01     0           12TH                24TH           4\n",
       "3  2016-01-01     0           12TH                ASHB           4\n",
       "4  2016-01-01     0           12TH                BALB           2"
      ]
     },
     "execution_count": 4,
     "metadata": {},
     "output_type": "execute_result"
    }
   ],
   "source": [
    "df.head()"
   ]
  },
  {
   "cell_type": "code",
   "execution_count": 5,
   "id": "86179f98",
   "metadata": {},
   "outputs": [
    {
     "data": {
      "text/plain": [
       "(9973662, 5)"
      ]
     },
     "execution_count": 5,
     "metadata": {},
     "output_type": "execute_result"
    }
   ],
   "source": [
    "d1.shape"
   ]
  },
  {
   "cell_type": "code",
   "execution_count": 6,
   "id": "9762d916",
   "metadata": {},
   "outputs": [
    {
     "data": {
      "text/plain": [
       "(9974095, 5)"
      ]
     },
     "execution_count": 6,
     "metadata": {},
     "output_type": "execute_result"
    }
   ],
   "source": [
    "d2.shape"
   ]
  },
  {
   "cell_type": "code",
   "execution_count": 7,
   "id": "7451112c",
   "metadata": {},
   "outputs": [
    {
     "data": {
      "text/plain": [
       "Date                   0\n",
       "Hour                   0\n",
       "Origin Station         0\n",
       "Destination Station    0\n",
       "Trip Count             0\n",
       "dtype: int64"
      ]
     },
     "execution_count": 7,
     "metadata": {},
     "output_type": "execute_result"
    }
   ],
   "source": [
    "df.isnull().sum()"
   ]
  },
  {
   "cell_type": "code",
   "execution_count": 8,
   "id": "6d59ab3a",
   "metadata": {},
   "outputs": [
    {
     "name": "stdout",
     "output_type": "stream",
     "text": [
      "<class 'pandas.core.frame.DataFrame'>\n",
      "Index: 19947757 entries, 0 to 9974094\n",
      "Data columns (total 5 columns):\n",
      " #   Column               Dtype \n",
      "---  ------               ----- \n",
      " 0   Date                 object\n",
      " 1   Hour                 int64 \n",
      " 2   Origin Station       object\n",
      " 3   Destination Station  object\n",
      " 4   Trip Count           int64 \n",
      "dtypes: int64(2), object(3)\n",
      "memory usage: 913.1+ MB\n"
     ]
    }
   ],
   "source": [
    "df.info()"
   ]
  },
  {
   "cell_type": "code",
   "execution_count": 9,
   "id": "5f713240",
   "metadata": {},
   "outputs": [
    {
     "data": {
      "text/plain": [
       "(19947757, 5)"
      ]
     },
     "execution_count": 9,
     "metadata": {},
     "output_type": "execute_result"
    }
   ],
   "source": [
    "df.shape"
   ]
  },
  {
   "cell_type": "code",
   "execution_count": 10,
   "id": "c34cc821",
   "metadata": {},
   "outputs": [
    {
     "data": {
      "text/plain": [
       "array(['12TH', '16TH', '19TH', '24TH', 'ASHB', 'BALB', 'BAYF', 'CAST',\n",
       "       'CIVC', 'COLM', 'COLS', 'CONC', 'DALY', 'DBRK', 'DELN', 'DUBL',\n",
       "       'EMBR', 'FRMT', 'FTVL', 'GLEN', 'HAYW', 'LAFY', 'LAKE', 'MCAR',\n",
       "       'MLBR', 'MONT', 'NBRK', 'NCON', 'OAKL', 'ORIN', 'PHIL', 'PITT',\n",
       "       'PLZA', 'POWL', 'RICH', 'ROCK', 'SANL', 'SBRN', 'SFIA', 'SHAY',\n",
       "       'SSAN', 'UCTY', 'WCRK', 'WDUB', 'WOAK', 'WARM'], dtype=object)"
      ]
     },
     "execution_count": 10,
     "metadata": {},
     "output_type": "execute_result"
    }
   ],
   "source": [
    "df['Origin Station'].unique() #kalkış istasyonu"
   ]
  },
  {
   "cell_type": "code",
   "execution_count": 11,
   "id": "fb49fd81",
   "metadata": {},
   "outputs": [
    {
     "data": {
      "text/plain": [
       "array(['12TH', '16TH', '24TH', 'ASHB', 'BALB', 'BAYF', 'CIVC', 'CONC',\n",
       "       'DBRK', 'DELN', 'DUBL', 'EMBR', 'FTVL', 'LAFY', 'LAKE', 'MCAR',\n",
       "       'MONT', 'NBRK', 'ORIN', 'PHIL', 'PITT', 'PLZA', 'POWL', 'ROCK',\n",
       "       'SANL', 'SBRN', 'SHAY', 'WCRK', 'WOAK', '19TH', 'COLM', 'COLS',\n",
       "       'DALY', 'GLEN', 'MLBR', 'NCON', 'RICH', 'SSAN', 'UCTY', 'WDUB',\n",
       "       'CAST', 'HAYW', 'SFIA', 'FRMT', 'OAKL', 'WARM'], dtype=object)"
      ]
     },
     "execution_count": 11,
     "metadata": {},
     "output_type": "execute_result"
    }
   ],
   "source": [
    "df['Destination Station'].unique() #varış istasyonu"
   ]
  },
  {
   "cell_type": "code",
   "execution_count": 12,
   "id": "57ae334d",
   "metadata": {},
   "outputs": [],
   "source": [
    "df['Date']=pd.to_datetime(df['Date'])\n",
    "df['day']=df['Date'].dt.day\n",
    "df['month']=df['Date'].dt.month\n",
    "df['year']=df['Date'].dt.year\n",
    "df['day_name']=df['Date'].dt.day_name()"
   ]
  },
  {
   "cell_type": "code",
   "execution_count": 13,
   "id": "a0839165",
   "metadata": {},
   "outputs": [],
   "source": [
    "df.drop('Date', axis=1,inplace=True)"
   ]
  },
  {
   "cell_type": "code",
   "execution_count": 14,
   "id": "e9ebb17a",
   "metadata": {},
   "outputs": [
    {
     "data": {
      "text/html": [
       "<div>\n",
       "<style scoped>\n",
       "    .dataframe tbody tr th:only-of-type {\n",
       "        vertical-align: middle;\n",
       "    }\n",
       "\n",
       "    .dataframe tbody tr th {\n",
       "        vertical-align: top;\n",
       "    }\n",
       "\n",
       "    .dataframe thead th {\n",
       "        text-align: right;\n",
       "    }\n",
       "</style>\n",
       "<table border=\"1\" class=\"dataframe\">\n",
       "  <thead>\n",
       "    <tr style=\"text-align: right;\">\n",
       "      <th></th>\n",
       "      <th>Hour</th>\n",
       "      <th>Origin Station</th>\n",
       "      <th>Destination Station</th>\n",
       "      <th>Trip Count</th>\n",
       "      <th>day</th>\n",
       "      <th>month</th>\n",
       "      <th>year</th>\n",
       "      <th>day_name</th>\n",
       "    </tr>\n",
       "  </thead>\n",
       "  <tbody>\n",
       "    <tr>\n",
       "      <th>0</th>\n",
       "      <td>0</td>\n",
       "      <td>12TH</td>\n",
       "      <td>12TH</td>\n",
       "      <td>1</td>\n",
       "      <td>1</td>\n",
       "      <td>1</td>\n",
       "      <td>2016</td>\n",
       "      <td>Friday</td>\n",
       "    </tr>\n",
       "    <tr>\n",
       "      <th>1</th>\n",
       "      <td>0</td>\n",
       "      <td>12TH</td>\n",
       "      <td>16TH</td>\n",
       "      <td>1</td>\n",
       "      <td>1</td>\n",
       "      <td>1</td>\n",
       "      <td>2016</td>\n",
       "      <td>Friday</td>\n",
       "    </tr>\n",
       "    <tr>\n",
       "      <th>2</th>\n",
       "      <td>0</td>\n",
       "      <td>12TH</td>\n",
       "      <td>24TH</td>\n",
       "      <td>4</td>\n",
       "      <td>1</td>\n",
       "      <td>1</td>\n",
       "      <td>2016</td>\n",
       "      <td>Friday</td>\n",
       "    </tr>\n",
       "    <tr>\n",
       "      <th>3</th>\n",
       "      <td>0</td>\n",
       "      <td>12TH</td>\n",
       "      <td>ASHB</td>\n",
       "      <td>4</td>\n",
       "      <td>1</td>\n",
       "      <td>1</td>\n",
       "      <td>2016</td>\n",
       "      <td>Friday</td>\n",
       "    </tr>\n",
       "    <tr>\n",
       "      <th>4</th>\n",
       "      <td>0</td>\n",
       "      <td>12TH</td>\n",
       "      <td>BALB</td>\n",
       "      <td>2</td>\n",
       "      <td>1</td>\n",
       "      <td>1</td>\n",
       "      <td>2016</td>\n",
       "      <td>Friday</td>\n",
       "    </tr>\n",
       "  </tbody>\n",
       "</table>\n",
       "</div>"
      ],
      "text/plain": [
       "   Hour Origin Station Destination Station  Trip Count  day  month  year  \\\n",
       "0     0           12TH                12TH           1    1      1  2016   \n",
       "1     0           12TH                16TH           1    1      1  2016   \n",
       "2     0           12TH                24TH           4    1      1  2016   \n",
       "3     0           12TH                ASHB           4    1      1  2016   \n",
       "4     0           12TH                BALB           2    1      1  2016   \n",
       "\n",
       "  day_name  \n",
       "0   Friday  \n",
       "1   Friday  \n",
       "2   Friday  \n",
       "3   Friday  \n",
       "4   Friday  "
      ]
     },
     "execution_count": 14,
     "metadata": {},
     "output_type": "execute_result"
    }
   ],
   "source": [
    "df.head()"
   ]
  },
  {
   "cell_type": "code",
   "execution_count": 15,
   "id": "f2a22965",
   "metadata": {},
   "outputs": [
    {
     "name": "stdout",
     "output_type": "stream",
     "text": [
      "<class 'pandas.core.frame.DataFrame'>\n",
      "Index: 19947757 entries, 0 to 9974094\n",
      "Data columns (total 8 columns):\n",
      " #   Column               Dtype \n",
      "---  ------               ----- \n",
      " 0   Hour                 int64 \n",
      " 1   Origin Station       object\n",
      " 2   Destination Station  object\n",
      " 3   Trip Count           int64 \n",
      " 4   day                  int32 \n",
      " 5   month                int32 \n",
      " 6   year                 int32 \n",
      " 7   day_name             object\n",
      "dtypes: int32(3), int64(2), object(3)\n",
      "memory usage: 1.1+ GB\n"
     ]
    }
   ],
   "source": [
    "df.info()"
   ]
  },
  {
   "cell_type": "markdown",
   "id": "83abcd8d",
   "metadata": {},
   "source": [
    "## <font color=\"blue\"> Veri Analizi Soruları </font>"
   ]
  },
  {
   "cell_type": "markdown",
   "id": "9baa9f6c",
   "metadata": {},
   "source": [
    "### En yoğun BART istasyonu hangisidir?"
   ]
  },
  {
   "cell_type": "code",
   "execution_count": 16,
   "id": "e35039b4",
   "metadata": {},
   "outputs": [
    {
     "name": "stdout",
     "output_type": "stream",
     "text": [
      "En yoğun BART istasyonu,kalkış istasyonuna göre: MONT\n"
     ]
    }
   ],
   "source": [
    "# Her istasyona gelen toplam yolcu sayısını hesapla,en yoğun istasyonu bul\n",
    "most_busy = df.groupby('Origin Station')['Trip Count'].sum().idxmax()\n",
    "print('En yoğun BART istasyonu,kalkış istasyonuna göre:', most_busy)"
   ]
  },
  {
   "cell_type": "code",
   "execution_count": 17,
   "id": "cdd57243",
   "metadata": {},
   "outputs": [
    {
     "name": "stdout",
     "output_type": "stream",
     "text": [
      "En yoğun BART istasyonu,varış istasyonuna göre: EMBR\n"
     ]
    }
   ],
   "source": [
    "# Her istasyona gelen toplam yolcu sayısını hesapla,en yoğun istasyonu bul\n",
    "most_busy = df.groupby('Destination Station')['Trip Count'].sum().idxmax()\n",
    "print('En yoğun BART istasyonu,varış istasyonuna göre:', most_busy)"
   ]
  },
  {
   "cell_type": "code",
   "execution_count": 18,
   "id": "0b2d6190",
   "metadata": {},
   "outputs": [
    {
     "data": {
      "image/png": "[encoded data removed]",
      "text/plain": [
       "<Figure size 1200x1200 with 1 Axes>"
      ]
     },
     "metadata": {},
     "output_type": "display_data"
    }
   ],
   "source": [
    "fig=plt.figure(figsize=(12,12))\n",
    "ax=fig.add_subplot(3,1,1)\n",
    "ax=sns.barplot(x=df[\"Origin Station\"],y=df[\"Trip Count\"])\n",
    "plt.xticks(rotation=90)\n",
    "plt.title('Kalkış İstasyonları');"
   ]
  },
  {
   "cell_type": "code",
   "execution_count": 19,
   "id": "c6580e38",
   "metadata": {},
   "outputs": [
    {
     "data": {
      "image/png": "[encoded data removed]",
      "text/plain": [
       "<Figure size 1200x1200 with 1 Axes>"
      ]
     },
     "metadata": {},
     "output_type": "display_data"
    }
   ],
   "source": [
    "fig=plt.figure(figsize=(12,12))\n",
    "ax=fig.add_subplot(3,1,1)\n",
    "ax=sns.barplot(x=df[\"Destination Station\"],y=df[\"Trip Count\"])\n",
    "plt.xticks(rotation=90)\n",
    "plt.title('Varış İstasyonları');"
   ]
  },
  {
   "cell_type": "markdown",
   "id": "316d1d96",
   "metadata": {},
   "source": [
    "### En az popüler BART güzergahı hangisidir?"
   ]
  },
  {
   "cell_type": "code",
   "execution_count": 20,
   "id": "f7ab237d",
   "metadata": {},
   "outputs": [
    {
     "name": "stdout",
     "output_type": "stream",
     "text": [
      "En az popüler BART istasyonu, kalkış istasyonuna göre: WARM\n"
     ]
    }
   ],
   "source": [
    "least_popular=df.groupby('Origin Station')['Trip Count'].sum().idxmin()\n",
    "print('En az popüler BART istasyonu, kalkış istasyonuna göre:',least_popular)"
   ]
  },
  {
   "cell_type": "code",
   "execution_count": 21,
   "id": "61684a00",
   "metadata": {},
   "outputs": [
    {
     "name": "stdout",
     "output_type": "stream",
     "text": [
      "En az popüler BART istasyonu, varış istasyonuna göre: WARM\n"
     ]
    }
   ],
   "source": [
    "least_popular1=df.groupby('Destination Station')['Trip Count'].sum().idxmin()\n",
    "print('En az popüler BART istasyonu, varış istasyonuna göre:',least_popular1)"
   ]
  },
  {
   "cell_type": "code",
   "execution_count": 22,
   "id": "c637b2e7",
   "metadata": {},
   "outputs": [
    {
     "name": "stdout",
     "output_type": "stream",
     "text": [
      "En az popüler BART güzergahı: ('WARM', 'MLBR')\n"
     ]
    }
   ],
   "source": [
    "least_popular2=df.groupby(['Origin Station', 'Destination Station'])['Trip Count'].sum().idxmin()\n",
    "print('En az popüler BART güzergahı:',least_popular2)"
   ]
  },
  {
   "cell_type": "markdown",
   "id": "fc093742",
   "metadata": {},
   "source": [
    "### Bir koltuk bulmak istiyorsanız Berkeley'den SF'ye gitmek için en iyi zaman ne zamandır?"
   ]
  },
  {
   "cell_type": "code",
   "execution_count": 23,
   "id": "e4586da9",
   "metadata": {},
   "outputs": [],
   "source": [
    "#DBRK - DownTown Berkeley - - EMBR - San Francisco'nun merkezinde bir yer"
   ]
  },
  {
   "cell_type": "code",
   "execution_count": 24,
   "id": "880d538d",
   "metadata": {},
   "outputs": [
    {
     "name": "stdout",
     "output_type": "stream",
     "text": [
      "Berkeley'den SF'ye en az yoğun saatler: [3, 2]\n",
      "Berkeley'den SF'ye en az yoğun günler: ['Friday', 'Wednesday']\n"
     ]
    }
   ],
   "source": [
    "# Berkeley'den SF'ye giden güzergahları seç\n",
    "route=df[(df['Origin Station'] == 'DBRK') & (df['Destination Station'] == 'EMBR')]\n",
    "\n",
    "# En az yoğun saatleri bul\n",
    "route['Hour'] = pd.to_numeric(route['Hour'])\n",
    "time = route.groupby('Hour')['Trip Count'].sum().sort_values(ascending=True).head(2).index.tolist()\n",
    "\n",
    "# En az yoğun günleri bul\n",
    "g={0:'Monday', 1:'Tuesday', 2:'Wednesday', 3:'Thursday', 4:'Friday', 5:'Saturday', 6:'Sunday'}\n",
    "route['day_name'] = route['day'].map(g)\n",
    "days = route.groupby('day_name')['Trip Count'].sum().sort_values(ascending=True).head(2).index.tolist()\n",
    "\n",
    "print(\"Berkeley'den SF'ye en az yoğun saatler:\", time)\n",
    "print(\"Berkeley'den SF'ye en az yoğun günler:\", days)"
   ]
  },
  {
   "cell_type": "markdown",
   "id": "6948570c",
   "metadata": {},
   "source": [
    "### Haftanın hangi günü en yoğundur?"
   ]
  },
  {
   "cell_type": "code",
   "execution_count": 25,
   "id": "10f6d191",
   "metadata": {},
   "outputs": [
    {
     "name": "stdout",
     "output_type": "stream",
     "text": [
      "Haftanın en yoğun günü: Wednesday\n"
     ]
    }
   ],
   "source": [
    "days=df.groupby('day_name')['Trip Count'].sum()\n",
    "\n",
    "most_busy_days=days.idxmax()\n",
    "print('Haftanın en yoğun günü:', most_busy_days)"
   ]
  },
  {
   "cell_type": "code",
   "execution_count": 52,
   "id": "27d3390e",
   "metadata": {},
   "outputs": [
    {
     "data": {
      "image/png": "[encoded data removed]",
      "text/plain": [
       "<Figure size 640x480 with 1 Axes>"
      ]
     },
     "metadata": {},
     "output_type": "display_data"
    }
   ],
   "source": [
    "sns.barplot(x=df[\"day_name\"],y=df[\"Trip Count\"])\n",
    "plt.xticks(rotation=90);"
   ]
  },
  {
   "cell_type": "markdown",
   "id": "76ee53da",
   "metadata": {},
   "source": [
    "### Gece geç saatlerde BART'a kaç kişi biniyor?"
   ]
  },
  {
   "cell_type": "code",
   "execution_count": 27,
   "id": "84fae83e",
   "metadata": {},
   "outputs": [
    {
     "name": "stdout",
     "output_type": "stream",
     "text": [
      "Gece geç saatlerde BART'a binen yolcu sayısı: 5803819\n"
     ]
    }
   ],
   "source": [
    "night_time = (df['Hour'].astype(int) >= 0) & (df['Hour'].astype(int) < 6) #Gece saat 12 ile 5 arası\n",
    "night_trips = df.loc[night_time, 'Trip Count'].sum()\n",
    "\n",
    "print(\"Gece geç saatlerde BART'a binen yolcu sayısı:\", night_trips)"
   ]
  },
  {
   "cell_type": "markdown",
   "id": "a2d0c1c4",
   "metadata": {},
   "source": [
    "## <font color=\"blue\"> Veri Bilimi Soruları </font>"
   ]
  },
  {
   "cell_type": "markdown",
   "id": "ffde388c",
   "metadata": {},
   "source": [
    "### Her istasyon arasındaki düz çizgi mesafesini hesaplayın"
   ]
  },
  {
   "cell_type": "markdown",
   "id": "c3a1c68e",
   "metadata": {},
   "source": [
    "Her istasyon arasındaki düz çizgi mesafesini hesaplamak için bize ilk önce lokasyon bilgisi (enlem,boylam) yani latitude ve longitude bilgisi gerekiyor.Bu istasyonların lokasyonlarını bulduktan sonra bir dataframe'e çevireceğiz ve ikisini birleştirip, her istasyon arasındaki düz çizgi mesafesini hesaplayacağız."
   ]
  },
  {
   "cell_type": "code",
   "execution_count": 28,
   "id": "fd5d19c5",
   "metadata": {},
   "outputs": [
    {
     "data": {
      "text/html": [
       "<div>\n",
       "<style scoped>\n",
       "    .dataframe tbody tr th:only-of-type {\n",
       "        vertical-align: middle;\n",
       "    }\n",
       "\n",
       "    .dataframe tbody tr th {\n",
       "        vertical-align: top;\n",
       "    }\n",
       "\n",
       "    .dataframe thead th {\n",
       "        text-align: right;\n",
       "    }\n",
       "</style>\n",
       "<table border=\"1\" class=\"dataframe\">\n",
       "  <thead>\n",
       "    <tr style=\"text-align: right;\">\n",
       "      <th></th>\n",
       "      <th>Hour</th>\n",
       "      <th>Origin Station</th>\n",
       "      <th>Destination Station</th>\n",
       "      <th>Trip Count</th>\n",
       "      <th>day</th>\n",
       "      <th>month</th>\n",
       "      <th>year</th>\n",
       "      <th>day_name</th>\n",
       "    </tr>\n",
       "  </thead>\n",
       "  <tbody>\n",
       "    <tr>\n",
       "      <th>0</th>\n",
       "      <td>0</td>\n",
       "      <td>12TH</td>\n",
       "      <td>12TH</td>\n",
       "      <td>1</td>\n",
       "      <td>1</td>\n",
       "      <td>1</td>\n",
       "      <td>2016</td>\n",
       "      <td>Friday</td>\n",
       "    </tr>\n",
       "    <tr>\n",
       "      <th>1</th>\n",
       "      <td>0</td>\n",
       "      <td>12TH</td>\n",
       "      <td>16TH</td>\n",
       "      <td>1</td>\n",
       "      <td>1</td>\n",
       "      <td>1</td>\n",
       "      <td>2016</td>\n",
       "      <td>Friday</td>\n",
       "    </tr>\n",
       "    <tr>\n",
       "      <th>2</th>\n",
       "      <td>0</td>\n",
       "      <td>12TH</td>\n",
       "      <td>24TH</td>\n",
       "      <td>4</td>\n",
       "      <td>1</td>\n",
       "      <td>1</td>\n",
       "      <td>2016</td>\n",
       "      <td>Friday</td>\n",
       "    </tr>\n",
       "    <tr>\n",
       "      <th>3</th>\n",
       "      <td>0</td>\n",
       "      <td>12TH</td>\n",
       "      <td>ASHB</td>\n",
       "      <td>4</td>\n",
       "      <td>1</td>\n",
       "      <td>1</td>\n",
       "      <td>2016</td>\n",
       "      <td>Friday</td>\n",
       "    </tr>\n",
       "    <tr>\n",
       "      <th>4</th>\n",
       "      <td>0</td>\n",
       "      <td>12TH</td>\n",
       "      <td>BALB</td>\n",
       "      <td>2</td>\n",
       "      <td>1</td>\n",
       "      <td>1</td>\n",
       "      <td>2016</td>\n",
       "      <td>Friday</td>\n",
       "    </tr>\n",
       "  </tbody>\n",
       "</table>\n",
       "</div>"
      ],
      "text/plain": [
       "   Hour Origin Station Destination Station  Trip Count  day  month  year  \\\n",
       "0     0           12TH                12TH           1    1      1  2016   \n",
       "1     0           12TH                16TH           1    1      1  2016   \n",
       "2     0           12TH                24TH           4    1      1  2016   \n",
       "3     0           12TH                ASHB           4    1      1  2016   \n",
       "4     0           12TH                BALB           2    1      1  2016   \n",
       "\n",
       "  day_name  \n",
       "0   Friday  \n",
       "1   Friday  \n",
       "2   Friday  \n",
       "3   Friday  \n",
       "4   Friday  "
      ]
     },
     "execution_count": 28,
     "metadata": {},
     "output_type": "execute_result"
    }
   ],
   "source": [
    "df.head()"
   ]
  },
  {
   "cell_type": "code",
   "execution_count": 29,
   "id": "816d3327",
   "metadata": {},
   "outputs": [
    {
     "data": {
      "text/plain": [
       "array(['12TH', '16TH', '19TH', '24TH', 'ASHB', 'BALB', 'BAYF', 'CAST',\n",
       "       'CIVC', 'COLM', 'COLS', 'CONC', 'DALY', 'DBRK', 'DELN', 'DUBL',\n",
       "       'EMBR', 'FRMT', 'FTVL', 'GLEN', 'HAYW', 'LAFY', 'LAKE', 'MCAR',\n",
       "       'MLBR', 'MONT', 'NBRK', 'NCON', 'OAKL', 'ORIN', 'PHIL', 'PITT',\n",
       "       'PLZA', 'POWL', 'RICH', 'ROCK', 'SANL', 'SBRN', 'SFIA', 'SHAY',\n",
       "       'SSAN', 'UCTY', 'WCRK', 'WDUB', 'WOAK', 'WARM'], dtype=object)"
      ]
     },
     "execution_count": 29,
     "metadata": {},
     "output_type": "execute_result"
    }
   ],
   "source": [
    "df['Origin Station'].unique()"
   ]
  },
  {
   "cell_type": "code",
   "execution_count": 30,
   "id": "2f6d73ee",
   "metadata": {},
   "outputs": [],
   "source": [
    "# İstasyonların koordinatlarını tanımlayıyoruz\n",
    "origin_locations = {\n",
    "    'Origin Station': ['12TH', '16TH', '19TH', '24TH', 'ASHB', 'BALB', 'BAYF', 'CAST','CIVC', 'COLM', 'COLS', 'CONC', 'DALY',\n",
    "    'DBRK', 'DELN', 'DUBL','EMBR', 'FRMT', 'FTVL', 'GLEN', 'HAYW', 'LAFY', 'LAKE', 'MCAR','MLBR', 'MONT', 'NBRK', 'NCON', \n",
    "    'OAKL', 'ORIN', 'PHIL', 'PITT','PLZA', 'POWL', 'RICH', 'ROCK', 'SANL', 'SBRN', 'SFIA', 'SHAY','SSAN', 'UCTY', 'WCRK', \n",
    "    'WDUB', 'WOAK', 'WARM'],\n",
    "    \n",
    "    'Latitude1': [37.7988, 37.7720, 37.7753, 37.7753, 37.7461, 37.7540, 37.6386, 37.7670,37.7955, 37.6330, 37.7871, 38.0049,\n",
    "    37.6656, 37.8705, 37.7082, 37.7021,37.7955, 37.5630, 37.7067, 37.9409, 37.6690, 38.0035, 37.7856, 37.7955,37.4899, \n",
    "    37.7946, 37.5667, 38.0502, 37.8044, 37.6359, 37.7857, 38.0220, 37.8833, 37.7749, 37.9250, 37.6000, 37.6610, 37.6348,\n",
    "    37.6213, 37.7270,37.6464, 37.6824, 38.0074, 37.6783, 37.8043, 37.9733],\n",
    "    \n",
    "    'Longitude1': [-122.2751, -122.4183, -122.4441, -122.4271, -122.2119, -122.2172, -122.0427, -121.9780,-122.4018, -122.4863,\n",
    "    -122.4168, -122.0574, -122.4460, -122.2585, -122.4440, -121.8922,-122.3964, -122.0211, -122.4470, -122.0215, -122.0961,\n",
    "    -122.1206, -122.2468, -122.4018,-122.2312, -122.3997, -122.2844, -122.0134, -122.2711, -122.1065, -122.3943, -121.8851,\n",
    "     -122.2824, -122.4194, -122.3478, -122.0310, -122.1833, -122.4270, -122.3790, -122.1471, -122.2094, -122.0723, -122.0600,\n",
    "    -121.9678, -122.2711, -122.0581]\n",
    "}\n",
    "\n",
    "# DataFrame oluşturuyoruz\n",
    "origin_locations = pd.DataFrame(origin_locations)"
   ]
  },
  {
   "cell_type": "code",
   "execution_count": 31,
   "id": "52695a84",
   "metadata": {},
   "outputs": [
    {
     "data": {
      "text/plain": [
       "array(['12TH', '16TH', '24TH', 'ASHB', 'BALB', 'BAYF', 'CIVC', 'CONC',\n",
       "       'DBRK', 'DELN', 'DUBL', 'EMBR', 'FTVL', 'LAFY', 'LAKE', 'MCAR',\n",
       "       'MONT', 'NBRK', 'ORIN', 'PHIL', 'PITT', 'PLZA', 'POWL', 'ROCK',\n",
       "       'SANL', 'SBRN', 'SHAY', 'WCRK', 'WOAK', '19TH', 'COLM', 'COLS',\n",
       "       'DALY', 'GLEN', 'MLBR', 'NCON', 'RICH', 'SSAN', 'UCTY', 'WDUB',\n",
       "       'CAST', 'HAYW', 'SFIA', 'FRMT', 'OAKL', 'WARM'], dtype=object)"
      ]
     },
     "execution_count": 31,
     "metadata": {},
     "output_type": "execute_result"
    }
   ],
   "source": [
    "df['Destination Station'].unique()"
   ]
  },
  {
   "cell_type": "code",
   "execution_count": 32,
   "id": "17295036",
   "metadata": {},
   "outputs": [],
   "source": [
    "# İstasyonların koordinatlarını tanımlayoruz\n",
    "destination_locations = {\n",
    "    'Destination Station': ['12TH', '16TH', '24TH', 'ASHB', 'BALB', 'BAYF', 'CIVC', 'CONC','DBRK', 'DELN', 'DUBL', 'EMBR',\n",
    "    'FTVL', 'LAFY', 'LAKE', 'MCAR','MONT', 'NBRK', 'ORIN', 'PHIL', 'PITT', 'PLZA', 'POWL', 'ROCK','SANL', 'SBRN', 'SHAY',\n",
    "    'WCRK', 'WOAK', '19TH', 'COLM', 'COLS','DALY', 'GLEN', 'MLBR', 'NCON', 'RICH', 'SSAN', 'UCTY', 'WDUB','CAST', 'HAYW',\n",
    "    'SFIA', 'FRMT', 'OAKL', 'WARM'],\n",
    "    \n",
    "    'Latitude2': [37.7988, 37.7720, 37.7753, 37.7461, 37.7540, 37.6386, 37.7955, 38.0049,37.8705, 37.7082, 37.7021,\n",
    "    37.7955, 37.7067, 38.0035, 37.7856, 37.7955,37.7946, 37.5667, 37.6359, 37.7857, 38.0220, 37.8833, 37.7749, \n",
    "    37.6000,37.6610, 37.6348, 37.7270, 38.0074, 37.8043, 37.7753, 37.6330, 37.7871, 37.6656, 37.9409, 37.4899, \n",
    "    38.0502, 37.9250, 37.6464, 37.6824, 37.6783,37.7670, 37.6690, 37.6213, 37.5630, 37.8044, 37.9733],\n",
    "    \n",
    "    'Longitude2': [-122.2751, -122.4183, -122.4271, -122.2119, -122.2172, -122.0427, -122.4018, -122.0574,-122.2585, \n",
    "    -122.4440, -121.8922, -122.3964, -122.4470, -122.1206, -122.2468, -122.4018,-122.3997, -122.2844, -122.1065,\n",
    "    -122.3943, -121.8851, -122.2824, -122.4194, -122.0310, -122.1833, -122.4270, -122.1471, -122.0600, -122.2711,\n",
    "    -122.4441, -122.4863, -122.4168,-122.4460, -122.0215, -122.2312, -122.0134, -122.3478, -122.2094, -122.0723,\n",
    "    -121.9678,-121.9780, -122.0961, -122.3790, -122.0211, -122.2711, -122.0581]\n",
    "}\n",
    "\n",
    "# DataFrame oluşturuyoruz\n",
    "destination_locations = pd.DataFrame(destination_locations)"
   ]
  },
  {
   "cell_type": "code",
   "execution_count": 33,
   "id": "ee8d4057",
   "metadata": {},
   "outputs": [],
   "source": [
    "df1=pd.concat([origin_locations,destination_locations],axis=1)\n",
    "#Her iki istasyona ait lokasyon bilgilerini birleştiriyoruz."
   ]
  },
  {
   "cell_type": "code",
   "execution_count": 34,
   "id": "f4c8cd9e",
   "metadata": {},
   "outputs": [
    {
     "data": {
      "text/html": [
       "<div>\n",
       "<style scoped>\n",
       "    .dataframe tbody tr th:only-of-type {\n",
       "        vertical-align: middle;\n",
       "    }\n",
       "\n",
       "    .dataframe tbody tr th {\n",
       "        vertical-align: top;\n",
       "    }\n",
       "\n",
       "    .dataframe thead th {\n",
       "        text-align: right;\n",
       "    }\n",
       "</style>\n",
       "<table border=\"1\" class=\"dataframe\">\n",
       "  <thead>\n",
       "    <tr style=\"text-align: right;\">\n",
       "      <th></th>\n",
       "      <th>Origin Station</th>\n",
       "      <th>Latitude1</th>\n",
       "      <th>Longitude1</th>\n",
       "      <th>Destination Station</th>\n",
       "      <th>Latitude2</th>\n",
       "      <th>Longitude2</th>\n",
       "    </tr>\n",
       "  </thead>\n",
       "  <tbody>\n",
       "    <tr>\n",
       "      <th>0</th>\n",
       "      <td>12TH</td>\n",
       "      <td>37.7988</td>\n",
       "      <td>-122.2751</td>\n",
       "      <td>12TH</td>\n",
       "      <td>37.7988</td>\n",
       "      <td>-122.2751</td>\n",
       "    </tr>\n",
       "    <tr>\n",
       "      <th>1</th>\n",
       "      <td>16TH</td>\n",
       "      <td>37.7720</td>\n",
       "      <td>-122.4183</td>\n",
       "      <td>16TH</td>\n",
       "      <td>37.7720</td>\n",
       "      <td>-122.4183</td>\n",
       "    </tr>\n",
       "    <tr>\n",
       "      <th>2</th>\n",
       "      <td>19TH</td>\n",
       "      <td>37.7753</td>\n",
       "      <td>-122.4441</td>\n",
       "      <td>24TH</td>\n",
       "      <td>37.7753</td>\n",
       "      <td>-122.4271</td>\n",
       "    </tr>\n",
       "    <tr>\n",
       "      <th>3</th>\n",
       "      <td>24TH</td>\n",
       "      <td>37.7753</td>\n",
       "      <td>-122.4271</td>\n",
       "      <td>ASHB</td>\n",
       "      <td>37.7461</td>\n",
       "      <td>-122.2119</td>\n",
       "    </tr>\n",
       "    <tr>\n",
       "      <th>4</th>\n",
       "      <td>ASHB</td>\n",
       "      <td>37.7461</td>\n",
       "      <td>-122.2119</td>\n",
       "      <td>BALB</td>\n",
       "      <td>37.7540</td>\n",
       "      <td>-122.2172</td>\n",
       "    </tr>\n",
       "  </tbody>\n",
       "</table>\n",
       "</div>"
      ],
      "text/plain": [
       "  Origin Station  Latitude1  Longitude1 Destination Station  Latitude2  \\\n",
       "0           12TH    37.7988   -122.2751                12TH    37.7988   \n",
       "1           16TH    37.7720   -122.4183                16TH    37.7720   \n",
       "2           19TH    37.7753   -122.4441                24TH    37.7753   \n",
       "3           24TH    37.7753   -122.4271                ASHB    37.7461   \n",
       "4           ASHB    37.7461   -122.2119                BALB    37.7540   \n",
       "\n",
       "   Longitude2  \n",
       "0   -122.2751  \n",
       "1   -122.4183  \n",
       "2   -122.4271  \n",
       "3   -122.2119  \n",
       "4   -122.2172  "
      ]
     },
     "execution_count": 34,
     "metadata": {},
     "output_type": "execute_result"
    }
   ],
   "source": [
    "df1.head()"
   ]
  },
  {
   "cell_type": "code",
   "execution_count": 35,
   "id": "7887d0e9",
   "metadata": {},
   "outputs": [],
   "source": [
    "#pip install geopy"
   ]
  },
  {
   "cell_type": "code",
   "execution_count": 36,
   "id": "e5e63d15",
   "metadata": {},
   "outputs": [],
   "source": [
    "from geopy.distance import geodesic\n",
    "\n",
    "# Mesafeyi hesapla ve yeni bir sütuna ekle\n",
    "df1['Distance (km)'] = df1.apply(lambda row: geodesic(\n",
    "    (row['Latitude1'], row['Longitude1']),\n",
    "    (row['Latitude2'], row['Longitude2'])).kilometers, axis=1)"
   ]
  },
  {
   "cell_type": "code",
   "execution_count": 37,
   "id": "f96f81f4",
   "metadata": {
    "scrolled": true
   },
   "outputs": [
    {
     "data": {
      "text/html": [
       "<div>\n",
       "<style scoped>\n",
       "    .dataframe tbody tr th:only-of-type {\n",
       "        vertical-align: middle;\n",
       "    }\n",
       "\n",
       "    .dataframe tbody tr th {\n",
       "        vertical-align: top;\n",
       "    }\n",
       "\n",
       "    .dataframe thead th {\n",
       "        text-align: right;\n",
       "    }\n",
       "</style>\n",
       "<table border=\"1\" class=\"dataframe\">\n",
       "  <thead>\n",
       "    <tr style=\"text-align: right;\">\n",
       "      <th></th>\n",
       "      <th>Origin Station</th>\n",
       "      <th>Latitude1</th>\n",
       "      <th>Longitude1</th>\n",
       "      <th>Destination Station</th>\n",
       "      <th>Latitude2</th>\n",
       "      <th>Longitude2</th>\n",
       "      <th>Distance (km)</th>\n",
       "    </tr>\n",
       "  </thead>\n",
       "  <tbody>\n",
       "    <tr>\n",
       "      <th>31</th>\n",
       "      <td>PITT</td>\n",
       "      <td>38.0220</td>\n",
       "      <td>-121.8851</td>\n",
       "      <td>COLS</td>\n",
       "      <td>37.7871</td>\n",
       "      <td>-122.4168</td>\n",
       "      <td>53.538380</td>\n",
       "    </tr>\n",
       "    <tr>\n",
       "      <th>42</th>\n",
       "      <td>WCRK</td>\n",
       "      <td>38.0074</td>\n",
       "      <td>-122.0600</td>\n",
       "      <td>SFIA</td>\n",
       "      <td>37.6213</td>\n",
       "      <td>-122.3790</td>\n",
       "      <td>51.239471</td>\n",
       "    </tr>\n",
       "    <tr>\n",
       "      <th>35</th>\n",
       "      <td>ROCK</td>\n",
       "      <td>37.6000</td>\n",
       "      <td>-122.0310</td>\n",
       "      <td>NCON</td>\n",
       "      <td>38.0502</td>\n",
       "      <td>-122.0134</td>\n",
       "      <td>49.993144</td>\n",
       "    </tr>\n",
       "    <tr>\n",
       "      <th>34</th>\n",
       "      <td>RICH</td>\n",
       "      <td>37.9250</td>\n",
       "      <td>-122.3478</td>\n",
       "      <td>MLBR</td>\n",
       "      <td>37.4899</td>\n",
       "      <td>-122.2312</td>\n",
       "      <td>49.374560</td>\n",
       "    </tr>\n",
       "    <tr>\n",
       "      <th>10</th>\n",
       "      <td>COLS</td>\n",
       "      <td>37.7871</td>\n",
       "      <td>-122.4168</td>\n",
       "      <td>DUBL</td>\n",
       "      <td>37.7021</td>\n",
       "      <td>-121.8922</td>\n",
       "      <td>47.188875</td>\n",
       "    </tr>\n",
       "  </tbody>\n",
       "</table>\n",
       "</div>"
      ],
      "text/plain": [
       "   Origin Station  Latitude1  Longitude1 Destination Station  Latitude2  \\\n",
       "31           PITT    38.0220   -121.8851                COLS    37.7871   \n",
       "42           WCRK    38.0074   -122.0600                SFIA    37.6213   \n",
       "35           ROCK    37.6000   -122.0310                NCON    38.0502   \n",
       "34           RICH    37.9250   -122.3478                MLBR    37.4899   \n",
       "10           COLS    37.7871   -122.4168                DUBL    37.7021   \n",
       "\n",
       "    Longitude2  Distance (km)  \n",
       "31   -122.4168      53.538380  \n",
       "42   -122.3790      51.239471  \n",
       "35   -122.0134      49.993144  \n",
       "34   -122.2312      49.374560  \n",
       "10   -121.8922      47.188875  "
      ]
     },
     "execution_count": 37,
     "metadata": {},
     "output_type": "execute_result"
    }
   ],
   "source": [
    "df1.sort_values(by='Distance (km)', ascending=False).head(5)"
   ]
  },
  {
   "cell_type": "markdown",
   "id": "641e7374",
   "metadata": {},
   "source": [
    "### Herhangi 2 istasyon arasında BART ile işe gidip gelen kişi sayısını tahmin edebilen bir model oluşturun"
   ]
  },
  {
   "cell_type": "code",
   "execution_count": 38,
   "id": "3c70ea61",
   "metadata": {},
   "outputs": [],
   "source": [
    "from sklearn.linear_model import LinearRegression\n",
    "from sklearn.ensemble import GradientBoostingRegressor\n",
    "from sklearn.tree import DecisionTreeRegressor, ExtraTreeRegressor\n",
    "from xgboost import XGBRegressor\n",
    "from sklearn.model_selection import train_test_split\n",
    "from sklearn.metrics import r2_score, mean_squared_error, root_mean_squared_error"
   ]
  },
  {
   "cell_type": "code",
   "execution_count": 39,
   "id": "2d1c316d",
   "metadata": {},
   "outputs": [],
   "source": [
    "#df3=pd.concat([df,df1],axis=1)\n",
    "#Bu şekilde birleştirdiğimizde aynı sütunları tekrar alıyor."
   ]
  },
  {
   "cell_type": "code",
   "execution_count": 40,
   "id": "736fa11d",
   "metadata": {},
   "outputs": [],
   "source": [
    "df3=pd.merge(df, df1, on=['Origin Station', 'Destination Station'], how='inner')\n",
    "#Bu yüzden merge ile birleştirme yapıyoruz."
   ]
  },
  {
   "cell_type": "code",
   "execution_count": 64,
   "id": "e87d2d07",
   "metadata": {},
   "outputs": [
    {
     "data": {
      "text/html": [
       "<div>\n",
       "<style scoped>\n",
       "    .dataframe tbody tr th:only-of-type {\n",
       "        vertical-align: middle;\n",
       "    }\n",
       "\n",
       "    .dataframe tbody tr th {\n",
       "        vertical-align: top;\n",
       "    }\n",
       "\n",
       "    .dataframe thead th {\n",
       "        text-align: right;\n",
       "    }\n",
       "</style>\n",
       "<table border=\"1\" class=\"dataframe\">\n",
       "  <thead>\n",
       "    <tr style=\"text-align: right;\">\n",
       "      <th></th>\n",
       "      <th>Hour</th>\n",
       "      <th>Origin Station</th>\n",
       "      <th>Destination Station</th>\n",
       "      <th>Trip Count</th>\n",
       "      <th>day</th>\n",
       "      <th>month</th>\n",
       "      <th>year</th>\n",
       "      <th>day_name</th>\n",
       "      <th>Latitude1</th>\n",
       "      <th>Longitude1</th>\n",
       "      <th>Latitude2</th>\n",
       "      <th>Longitude2</th>\n",
       "      <th>Distance (km)</th>\n",
       "    </tr>\n",
       "  </thead>\n",
       "  <tbody>\n",
       "    <tr>\n",
       "      <th>278823</th>\n",
       "      <td>14</td>\n",
       "      <td>PHIL</td>\n",
       "      <td>COLM</td>\n",
       "      <td>3</td>\n",
       "      <td>17</td>\n",
       "      <td>7</td>\n",
       "      <td>2016</td>\n",
       "      <td>Sunday</td>\n",
       "      <td>37.7857</td>\n",
       "      <td>-122.3943</td>\n",
       "      <td>37.6330</td>\n",
       "      <td>-122.4863</td>\n",
       "      <td>18.789789</td>\n",
       "    </tr>\n",
       "    <tr>\n",
       "      <th>368123</th>\n",
       "      <td>21</td>\n",
       "      <td>GLEN</td>\n",
       "      <td>PHIL</td>\n",
       "      <td>3</td>\n",
       "      <td>22</td>\n",
       "      <td>12</td>\n",
       "      <td>2016</td>\n",
       "      <td>Thursday</td>\n",
       "      <td>37.9409</td>\n",
       "      <td>-122.0215</td>\n",
       "      <td>37.7857</td>\n",
       "      <td>-122.3943</td>\n",
       "      <td>37.052452</td>\n",
       "    </tr>\n",
       "    <tr>\n",
       "      <th>282574</th>\n",
       "      <td>12</td>\n",
       "      <td>PHIL</td>\n",
       "      <td>COLM</td>\n",
       "      <td>1</td>\n",
       "      <td>28</td>\n",
       "      <td>12</td>\n",
       "      <td>2017</td>\n",
       "      <td>Thursday</td>\n",
       "      <td>37.7857</td>\n",
       "      <td>-122.3943</td>\n",
       "      <td>37.6330</td>\n",
       "      <td>-122.4863</td>\n",
       "      <td>18.789789</td>\n",
       "    </tr>\n",
       "    <tr>\n",
       "      <th>203115</th>\n",
       "      <td>23</td>\n",
       "      <td>SFIA</td>\n",
       "      <td>UCTY</td>\n",
       "      <td>2</td>\n",
       "      <td>28</td>\n",
       "      <td>12</td>\n",
       "      <td>2016</td>\n",
       "      <td>Wednesday</td>\n",
       "      <td>37.6213</td>\n",
       "      <td>-122.3790</td>\n",
       "      <td>37.6824</td>\n",
       "      <td>-122.0723</td>\n",
       "      <td>27.901714</td>\n",
       "    </tr>\n",
       "    <tr>\n",
       "      <th>305190</th>\n",
       "      <td>13</td>\n",
       "      <td>NCON</td>\n",
       "      <td>WCRK</td>\n",
       "      <td>4</td>\n",
       "      <td>10</td>\n",
       "      <td>6</td>\n",
       "      <td>2017</td>\n",
       "      <td>Saturday</td>\n",
       "      <td>38.0502</td>\n",
       "      <td>-122.0134</td>\n",
       "      <td>38.0074</td>\n",
       "      <td>-122.0600</td>\n",
       "      <td>6.269639</td>\n",
       "    </tr>\n",
       "  </tbody>\n",
       "</table>\n",
       "</div>"
      ],
      "text/plain": [
       "        Hour Origin Station Destination Station  Trip Count  day  month  year  \\\n",
       "278823    14           PHIL                COLM           3   17      7  2016   \n",
       "368123    21           GLEN                PHIL           3   22     12  2016   \n",
       "282574    12           PHIL                COLM           1   28     12  2017   \n",
       "203115    23           SFIA                UCTY           2   28     12  2016   \n",
       "305190    13           NCON                WCRK           4   10      6  2017   \n",
       "\n",
       "         day_name  Latitude1  Longitude1  Latitude2  Longitude2  Distance (km)  \n",
       "278823     Sunday    37.7857   -122.3943    37.6330   -122.4863      18.789789  \n",
       "368123   Thursday    37.9409   -122.0215    37.7857   -122.3943      37.052452  \n",
       "282574   Thursday    37.7857   -122.3943    37.6330   -122.4863      18.789789  \n",
       "203115  Wednesday    37.6213   -122.3790    37.6824   -122.0723      27.901714  \n",
       "305190   Saturday    38.0502   -122.0134    38.0074   -122.0600       6.269639  "
      ]
     },
     "execution_count": 64,
     "metadata": {},
     "output_type": "execute_result"
    }
   ],
   "source": [
    "df3.sample(5)"
   ]
  },
  {
   "cell_type": "code",
   "execution_count": 65,
   "id": "4ec5ed67",
   "metadata": {},
   "outputs": [],
   "source": [
    "x=df3.drop(['Trip Count'], axis=1)\n",
    "y=df3[['Trip Count']]"
   ]
  },
  {
   "cell_type": "code",
   "execution_count": 66,
   "id": "11e39f41",
   "metadata": {},
   "outputs": [],
   "source": [
    "x=pd.get_dummies(x, drop_first=True)"
   ]
  },
  {
   "cell_type": "code",
   "execution_count": 67,
   "id": "a5a835cc",
   "metadata": {},
   "outputs": [
    {
     "data": {
      "text/html": [
       "<div>\n",
       "<style scoped>\n",
       "    .dataframe tbody tr th:only-of-type {\n",
       "        vertical-align: middle;\n",
       "    }\n",
       "\n",
       "    .dataframe tbody tr th {\n",
       "        vertical-align: top;\n",
       "    }\n",
       "\n",
       "    .dataframe thead th {\n",
       "        text-align: right;\n",
       "    }\n",
       "</style>\n",
       "<table border=\"1\" class=\"dataframe\">\n",
       "  <thead>\n",
       "    <tr style=\"text-align: right;\">\n",
       "      <th></th>\n",
       "      <th>Hour</th>\n",
       "      <th>day</th>\n",
       "      <th>month</th>\n",
       "      <th>year</th>\n",
       "      <th>Latitude1</th>\n",
       "      <th>Longitude1</th>\n",
       "      <th>Latitude2</th>\n",
       "      <th>Longitude2</th>\n",
       "      <th>Distance (km)</th>\n",
       "      <th>Origin Station_16TH</th>\n",
       "      <th>...</th>\n",
       "      <th>Destination Station_WARM</th>\n",
       "      <th>Destination Station_WCRK</th>\n",
       "      <th>Destination Station_WDUB</th>\n",
       "      <th>Destination Station_WOAK</th>\n",
       "      <th>day_name_Monday</th>\n",
       "      <th>day_name_Saturday</th>\n",
       "      <th>day_name_Sunday</th>\n",
       "      <th>day_name_Thursday</th>\n",
       "      <th>day_name_Tuesday</th>\n",
       "      <th>day_name_Wednesday</th>\n",
       "    </tr>\n",
       "  </thead>\n",
       "  <tbody>\n",
       "    <tr>\n",
       "      <th>0</th>\n",
       "      <td>0</td>\n",
       "      <td>1</td>\n",
       "      <td>1</td>\n",
       "      <td>2016</td>\n",
       "      <td>37.7988</td>\n",
       "      <td>-122.2751</td>\n",
       "      <td>37.7988</td>\n",
       "      <td>-122.2751</td>\n",
       "      <td>0.0</td>\n",
       "      <td>False</td>\n",
       "      <td>...</td>\n",
       "      <td>False</td>\n",
       "      <td>False</td>\n",
       "      <td>False</td>\n",
       "      <td>False</td>\n",
       "      <td>False</td>\n",
       "      <td>False</td>\n",
       "      <td>False</td>\n",
       "      <td>False</td>\n",
       "      <td>False</td>\n",
       "      <td>False</td>\n",
       "    </tr>\n",
       "    <tr>\n",
       "      <th>1</th>\n",
       "      <td>1</td>\n",
       "      <td>1</td>\n",
       "      <td>1</td>\n",
       "      <td>2016</td>\n",
       "      <td>37.7988</td>\n",
       "      <td>-122.2751</td>\n",
       "      <td>37.7988</td>\n",
       "      <td>-122.2751</td>\n",
       "      <td>0.0</td>\n",
       "      <td>False</td>\n",
       "      <td>...</td>\n",
       "      <td>False</td>\n",
       "      <td>False</td>\n",
       "      <td>False</td>\n",
       "      <td>False</td>\n",
       "      <td>False</td>\n",
       "      <td>False</td>\n",
       "      <td>False</td>\n",
       "      <td>False</td>\n",
       "      <td>False</td>\n",
       "      <td>False</td>\n",
       "    </tr>\n",
       "    <tr>\n",
       "      <th>2</th>\n",
       "      <td>2</td>\n",
       "      <td>1</td>\n",
       "      <td>1</td>\n",
       "      <td>2016</td>\n",
       "      <td>37.7988</td>\n",
       "      <td>-122.2751</td>\n",
       "      <td>37.7988</td>\n",
       "      <td>-122.2751</td>\n",
       "      <td>0.0</td>\n",
       "      <td>False</td>\n",
       "      <td>...</td>\n",
       "      <td>False</td>\n",
       "      <td>False</td>\n",
       "      <td>False</td>\n",
       "      <td>False</td>\n",
       "      <td>False</td>\n",
       "      <td>False</td>\n",
       "      <td>False</td>\n",
       "      <td>False</td>\n",
       "      <td>False</td>\n",
       "      <td>False</td>\n",
       "    </tr>\n",
       "    <tr>\n",
       "      <th>3</th>\n",
       "      <td>11</td>\n",
       "      <td>1</td>\n",
       "      <td>1</td>\n",
       "      <td>2016</td>\n",
       "      <td>37.7988</td>\n",
       "      <td>-122.2751</td>\n",
       "      <td>37.7988</td>\n",
       "      <td>-122.2751</td>\n",
       "      <td>0.0</td>\n",
       "      <td>False</td>\n",
       "      <td>...</td>\n",
       "      <td>False</td>\n",
       "      <td>False</td>\n",
       "      <td>False</td>\n",
       "      <td>False</td>\n",
       "      <td>False</td>\n",
       "      <td>False</td>\n",
       "      <td>False</td>\n",
       "      <td>False</td>\n",
       "      <td>False</td>\n",
       "      <td>False</td>\n",
       "    </tr>\n",
       "    <tr>\n",
       "      <th>4</th>\n",
       "      <td>12</td>\n",
       "      <td>1</td>\n",
       "      <td>1</td>\n",
       "      <td>2016</td>\n",
       "      <td>37.7988</td>\n",
       "      <td>-122.2751</td>\n",
       "      <td>37.7988</td>\n",
       "      <td>-122.2751</td>\n",
       "      <td>0.0</td>\n",
       "      <td>False</td>\n",
       "      <td>...</td>\n",
       "      <td>False</td>\n",
       "      <td>False</td>\n",
       "      <td>False</td>\n",
       "      <td>False</td>\n",
       "      <td>False</td>\n",
       "      <td>False</td>\n",
       "      <td>False</td>\n",
       "      <td>False</td>\n",
       "      <td>False</td>\n",
       "      <td>False</td>\n",
       "    </tr>\n",
       "  </tbody>\n",
       "</table>\n",
       "<p>5 rows × 105 columns</p>\n",
       "</div>"
      ],
      "text/plain": [
       "   Hour  day  month  year  Latitude1  Longitude1  Latitude2  Longitude2  \\\n",
       "0     0    1      1  2016    37.7988   -122.2751    37.7988   -122.2751   \n",
       "1     1    1      1  2016    37.7988   -122.2751    37.7988   -122.2751   \n",
       "2     2    1      1  2016    37.7988   -122.2751    37.7988   -122.2751   \n",
       "3    11    1      1  2016    37.7988   -122.2751    37.7988   -122.2751   \n",
       "4    12    1      1  2016    37.7988   -122.2751    37.7988   -122.2751   \n",
       "\n",
       "   Distance (km)  Origin Station_16TH  ...  Destination Station_WARM  \\\n",
       "0            0.0                False  ...                     False   \n",
       "1            0.0                False  ...                     False   \n",
       "2            0.0                False  ...                     False   \n",
       "3            0.0                False  ...                     False   \n",
       "4            0.0                False  ...                     False   \n",
       "\n",
       "   Destination Station_WCRK  Destination Station_WDUB  \\\n",
       "0                     False                     False   \n",
       "1                     False                     False   \n",
       "2                     False                     False   \n",
       "3                     False                     False   \n",
       "4                     False                     False   \n",
       "\n",
       "   Destination Station_WOAK  day_name_Monday  day_name_Saturday  \\\n",
       "0                     False            False              False   \n",
       "1                     False            False              False   \n",
       "2                     False            False              False   \n",
       "3                     False            False              False   \n",
       "4                     False            False              False   \n",
       "\n",
       "   day_name_Sunday  day_name_Thursday  day_name_Tuesday  day_name_Wednesday  \n",
       "0            False              False             False               False  \n",
       "1            False              False             False               False  \n",
       "2            False              False             False               False  \n",
       "3            False              False             False               False  \n",
       "4            False              False             False               False  \n",
       "\n",
       "[5 rows x 105 columns]"
      ]
     },
     "execution_count": 67,
     "metadata": {},
     "output_type": "execute_result"
    }
   ],
   "source": [
    "x.head()"
   ]
  },
  {
   "cell_type": "code",
   "execution_count": 68,
   "id": "4d65386a",
   "metadata": {},
   "outputs": [],
   "source": [
    "x_train, x_test, y_train, y_test=train_test_split(x, y,test_size=0.2, random_state=42)"
   ]
  },
  {
   "cell_type": "code",
   "execution_count": 69,
   "id": "9f4b2902",
   "metadata": {},
   "outputs": [
    {
     "name": "stdout",
     "output_type": "stream",
     "text": [
      "Root Mean Squared Error: 12.04557444112874\n",
      "R2 Score: 0.8190485994079938\n"
     ]
    }
   ],
   "source": [
    "xgb=XGBRegressor()\n",
    "model=xgb.fit(x_train,y_train)\n",
    "pred=xgb.predict(x_test)\n",
    "rmse=mean_squared_error(y_test, pred)**.5\n",
    "r2=r2_score(y_test, pred)\n",
    "\n",
    "print('Root Mean Squared Error:', rmse)\n",
    "print('R2 Score:', r2)"
   ]
  },
  {
   "cell_type": "code",
   "execution_count": 47,
   "id": "d56e5d5f",
   "metadata": {},
   "outputs": [
    {
     "data": {
      "image/png": "[encoded data removed]",
      "text/plain": [
       "<Figure size 800x600 with 1 Axes>"
      ]
     },
     "metadata": {},
     "output_type": "display_data"
    }
   ],
   "source": [
    "y_pred=model.predict(x_test)\n",
    "plt.figure(figsize=(8, 6))\n",
    "plt.scatter(y_test, y_pred)\n",
    "plt.plot([y_test.min(), y_test.max()], [y_test.min(), y_test.max()], 'k--')\n",
    "plt.title('Tahmin Edilen Değerler vs Gerçek Değerler');\n",
    "#XGB Regressor"
   ]
  },
  {
   "cell_type": "code",
   "execution_count": 49,
   "id": "fd513532",
   "metadata": {},
   "outputs": [
    {
     "name": "stdout",
     "output_type": "stream",
     "text": [
      "Root Mean Squared Error: 15.369467202309876\n",
      "R2 Score: 0.7054055625433394\n"
     ]
    }
   ],
   "source": [
    "dt=DecisionTreeRegressor()\n",
    "model2=dt.fit(x_train,y_train)\n",
    "pred2=dt.predict(x_test)\n",
    "rmse=mean_squared_error(y_test, pred2)**.5\n",
    "r2=r2_score(y_test, pred2)\n",
    "\n",
    "print('Root Mean Squared Error:', rmse)\n",
    "print('R2 Score:', r2)"
   ]
  },
  {
   "cell_type": "code",
   "execution_count": 50,
   "id": "cf7472d2",
   "metadata": {},
   "outputs": [
    {
     "name": "stdout",
     "output_type": "stream",
     "text": [
      "Root Mean Squared Error: 16.591339490897543\n",
      "R2 Score: 0.6567031511436885\n"
     ]
    }
   ],
   "source": [
    "GBR=GradientBoostingRegressor()\n",
    "model3=GBR.fit(x_train,y_train)\n",
    "pred3=GBR.predict(x_test)\n",
    "rmse=mean_squared_error(y_test, pred3)**.5\n",
    "r2=r2_score(y_test, pred3)\n",
    "\n",
    "print('Root Mean Squared Error:', rmse)\n",
    "print('R2 Score:', r2)"
   ]
  },
  {
   "cell_type": "code",
   "execution_count": 48,
   "id": "fcbee56b",
   "metadata": {},
   "outputs": [
    {
     "name": "stdout",
     "output_type": "stream",
     "text": [
      "Root Mean Squared Error: 17.04043818489597\n",
      "R2 Score: 0.6378667238876357\n"
     ]
    }
   ],
   "source": [
    "ETR=ExtraTreeRegressor()\n",
    "model1=ETR.fit(x_train,y_train)\n",
    "pred1=ETR.predict(x_test)\n",
    "rmse=mean_squared_error(y_test, pred1)**.5\n",
    "r2=r2_score(y_test, pred1)\n",
    "\n",
    "print('Root Mean Squared Error:', rmse)\n",
    "print('R2 Score:', r2)"
   ]
  },
  {
   "cell_type": "markdown",
   "id": "3a8939b1",
   "metadata": {},
   "source": [
    "* **Herhangi 2 istasyon arasında BART ile işe gidip gelen kişi sayısını tahmin edebilen bir model oluşturun:Buna nasıl yaklaşırdınız?**\n",
    "Modeli geliştirdim.Başarı oranı yaklaşık olarak yüzde 80 civarında.Böyle bir modelin her yerde olması gerektiğini düşünüyorum.Böylece işe gidip gelenlerin sayısına göre daha fazla veya daha az metro kullanıma sunulabilir.\n",
    "\n",
    "* **Hangi ek verilere ihtiyacınız olurdu?**\n",
    "Enlem ve boylam bilgisi ek veri olabilir.\n",
    "\n",
    "* **Şehir veya Bart yetkililerinin verilerinizi nasıl kullanmasını istersiniz?**\n",
    "Hangi gün ve saat en yoğunsa o saatlerde daha fazla metro çalışabilir.Hava durumuyla birlikte(mesela her yer buz tutmuşsa ve o kimsenin arabası çalışmazsa)metro kullanmak isteyebilir.Metro kullananların sayısı artabilir.O zamanlarda da yoğunluk olacağı için yine daha fazla metro çalıştırılabilir."
   ]
  },
  {
   "cell_type": "markdown",
   "id": "2b0246a5",
   "metadata": {},
   "source": [
    "### Özet"
   ]
  },
  {
   "cell_type": "markdown",
   "id": "12e4dab4",
   "metadata": {},
   "source": [
    "Bu projede 2016-2017 verilerinin BART yani kısaca metro verilerini analiz ettik.Projede istenen sorulara cevap verdik.Herhangi iki istasyon arasında işe gidip gelen kişilerin sayısını tahmin eden bir model oluşturduk.Decision Tree,Extra Tree ve Gradient Boosting modellerinin başarı oranları yüzde 65-70 civarında.En iyi model yüzde 81 başarı oranı ile XGB Regressor oldu.Model için daha fazla ince ayar yapılabilir.Sorulara cevap verdikten sonra projemi bitirmiş oldum.."
   ]
  }
 ],
 "metadata": {
  "kernelspec": {
   "display_name": "Python 3 (ipykernel)",
   "language": "python",
   "name": "python3"
  },
  "language_info": {
   "codemirror_mode": {
    "name": "ipython",
    "version": 3
   },
   "file_extension": ".py",
   "mimetype": "text/x-python",
   "name": "python",
   "nbconvert_exporter": "python",
   "pygments_lexer": "ipython3",
   "version": "3.11.7"
  }
 },
 "nbformat": 4,
 "nbformat_minor": 5
}
